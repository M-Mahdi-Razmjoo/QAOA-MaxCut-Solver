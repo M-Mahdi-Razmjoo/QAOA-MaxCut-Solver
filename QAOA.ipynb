{
  "cells": [
    {
      "cell_type": "markdown",
      "metadata": {},
      "source": [
        " <pre>Mohammad Mahdi Razmjoo-400101272 "
      ]
    },
    {
      "cell_type": "markdown",
      "metadata": {
        "id": "YK_o7FY1yzaS"
      },
      "source": [
        "# Schematic of a p-level QAOA"
      ]
    },
    {
      "cell_type": "markdown",
      "metadata": {
        "id": "Jqy1YrlIyzaV"
      },
      "source": [
        "<img title=\"a title\" alt=\"Alt text\" src=\"plevel.png\">"
      ]
    },
    {
      "cell_type": "markdown",
      "metadata": {
        "id": "_ThUJ65zyzaV"
      },
      "source": [
        "## MaxCut Problem\n",
        "The MaxCut problem is a common application of QAOA.\n",
        "\n",
        "In the MaxCut problem, given a graph with vertices and edges, the goal is to find a partition of the vertices into two groups such that the number of cut edges, or the maximum cut, is maximized."
      ]
    },
    {
      "cell_type": "markdown",
      "metadata": {
        "id": "GCXj4ju9yzaW"
      },
      "source": [
        "<img title=\"a title\" alt=\"Alt text\" src=\"cut.png\">"
      ]
    },
    {
      "cell_type": "markdown",
      "metadata": {
        "id": "WMrW38-nyzaW"
      },
      "source": [
        "Here, assuming it’s an unweighted graph,"
      ]
    },
    {
      "cell_type": "markdown",
      "metadata": {
        "id": "XFhG01uRyzaW"
      },
      "source": [
        "$$  \n",
        "U_{B_l} = e^{-i\\beta_l B} = \\prod_{j=1}^n e^{-i\\beta_l \\sigma_x^j}  \n",
        "$$  \n",
        "$$  \n",
        "U_{C_l} = e^{-i\\gamma_l C} = \\prod_{\\text{edge } (j,k)} e^{-i\\gamma_l (1 - \\sigma_z^j \\sigma_z^k)/2}  \n",
        "$$"
      ]
    },
    {
      "cell_type": "markdown",
      "metadata": {
        "id": "05q0s8ijyzaX"
      },
      "source": [
        "we can illustrate its circuit"
      ]
    },
    {
      "cell_type": "markdown",
      "metadata": {
        "id": "IquHfDjpyzaX"
      },
      "source": [
        "<img title=\"a title\" alt=\"Alt text\" src=\"circuit.png\">"
      ]
    },
    {
      "cell_type": "code",
      "execution_count": 3,
      "metadata": {
        "id": "Z6CaVHBBj2cL"
      },
      "outputs": [],
      "source": [
        "!pip install qiskit\n",
        "!pip install qiskit-aer\n",
        "!pip install pylatexenc\n",
        "!pip install pylatexenc\n",
        "from IPython.display import clear_output\n",
        "clear_output()"
      ]
    },
    {
      "cell_type": "code",
      "execution_count": 4,
      "metadata": {
        "id": "l-LaGBIazgaF"
      },
      "outputs": [],
      "source": [
        "from qiskit import QuantumCircuit, transpile, assemble\n",
        "from qiskit_aer import Aer\n",
        "from qiskit.visualization import plot_histogram\n",
        "import matplotlib.pyplot as plt\n",
        "import numpy as np"
      ]
    },
    {
      "cell_type": "code",
      "execution_count": 5,
      "metadata": {
        "colab": {
          "base_uri": "https://localhost:8080/"
        },
        "id": "2tFIJuI8jDKr",
        "outputId": "a1833825-10fb-4079-e05c-9dccacd47059"
      },
      "outputs": [
        {
          "name": "stdout",
          "output_type": "stream",
          "text": [
            "Step 1/50 - Objective Value: 3.5249999999999995\n",
            "Step 2/50 - Objective Value: 3.368\n",
            "Step 3/50 - Objective Value: 3.4930000000000003\n",
            "Step 4/50 - Objective Value: 3.5349999999999997\n",
            "Step 5/50 - Objective Value: 3.658\n",
            "Step 6/50 - Objective Value: 3.476\n",
            "Step 7/50 - Objective Value: 3.3970000000000002\n",
            "Step 8/50 - Objective Value: 3.456000000000001\n",
            "Step 9/50 - Objective Value: 3.521\n",
            "Step 10/50 - Objective Value: 3.5340000000000003\n",
            "Step 11/50 - Objective Value: 3.5249999999999995\n",
            "Step 12/50 - Objective Value: 3.6\n",
            "Step 13/50 - Objective Value: 3.6209999999999996\n",
            "Step 14/50 - Objective Value: 3.4859999999999998\n",
            "Step 15/50 - Objective Value: 3.4579999999999997\n",
            "Step 16/50 - Objective Value: 3.532\n",
            "Step 17/50 - Objective Value: 3.498\n",
            "Step 18/50 - Objective Value: 3.5039999999999996\n",
            "Step 19/50 - Objective Value: 3.464\n",
            "Step 20/50 - Objective Value: 3.4889999999999994\n",
            "Step 21/50 - Objective Value: 3.417\n",
            "Step 22/50 - Objective Value: 3.495\n",
            "Step 23/50 - Objective Value: 3.513\n",
            "Step 24/50 - Objective Value: 3.445\n",
            "Step 25/50 - Objective Value: 3.5589999999999997\n",
            "Step 26/50 - Objective Value: 3.5800000000000005\n",
            "Step 27/50 - Objective Value: 3.4750000000000005\n",
            "Step 28/50 - Objective Value: 3.385\n",
            "Step 29/50 - Objective Value: 3.61\n",
            "Step 30/50 - Objective Value: 3.5170000000000003\n",
            "Step 31/50 - Objective Value: 3.479000000000001\n",
            "Step 32/50 - Objective Value: 3.4779999999999993\n",
            "Step 33/50 - Objective Value: 3.484\n",
            "Step 34/50 - Objective Value: 3.447\n",
            "Step 35/50 - Objective Value: 3.4969999999999994\n",
            "Step 36/50 - Objective Value: 3.4339999999999993\n",
            "Step 37/50 - Objective Value: 3.5390000000000006\n",
            "Step 38/50 - Objective Value: 3.5029999999999992\n",
            "Step 39/50 - Objective Value: 3.501\n",
            "Step 40/50 - Objective Value: 3.5429999999999997\n",
            "Step 41/50 - Objective Value: 3.535\n",
            "Step 42/50 - Objective Value: 3.4080000000000004\n",
            "Step 43/50 - Objective Value: 3.39\n",
            "Step 44/50 - Objective Value: 3.5219999999999994\n",
            "Step 45/50 - Objective Value: 3.436\n",
            "Step 46/50 - Objective Value: 3.624\n",
            "Step 47/50 - Objective Value: 3.4530000000000007\n",
            "Step 48/50 - Objective Value: 3.4550000000000005\n",
            "Step 49/50 - Objective Value: 3.4259999999999997\n",
            "Step 50/50 - Objective Value: 3.5050000000000003\n",
            "Optimal gamma: 0.7107976508481058\n",
            "Optimal beta: 1.5734772115111126\n"
          ]
        }
      ],
      "source": [
        "graph = {\n",
        "    'edges': [(0, 1), (1, 2), (2, 3), (3, 0)],\n",
        "    'weights': [1, 2, 3, 1]\n",
        "}\n",
        "\n",
        "def qaoa_circuit(gamma, beta, graph):\n",
        "    n = len(graph['weights'])\n",
        "    qc = QuantumCircuit(n, n)\n",
        "\n",
        "    qc.h(range(n))\n",
        "\n",
        "    for edge, weight in zip(graph['edges'], graph['weights']):\n",
        "        qc.cx(edge[0], edge[1])\n",
        "        qc.u(2 * gamma * weight, 0, 0, edge[1])\n",
        "        qc.cx(edge[0], edge[1])\n",
        "\n",
        "    qc.rx(2 * beta, range(n))\n",
        "\n",
        "    return qc\n",
        "\n",
        "def evaluate_qaoa(gamma, beta, graph, n_shots=1000):\n",
        "    qc = qaoa_circuit(gamma, beta, graph)\n",
        "    qc.measure(range(len(graph['weights'])), range(len(graph['weights'])))\n",
        "\n",
        "    aer_sim = Aer.get_backend('aer_simulator')\n",
        "    transpiled_qc = transpile(qc, aer_sim)\n",
        "\n",
        "    result = aer_sim.run(transpiled_qc, shots=n_shots).result()\n",
        "    counts = result.get_counts(qc)\n",
        "\n",
        "    obj_val = 0\n",
        "    for bit_string, count in counts.items():\n",
        "        bit_weight = sum([int(bit) * weight for bit, weight in zip(bit_string, graph['weights'])])\n",
        "        obj_val += bit_weight * count / n_shots\n",
        "\n",
        "    return obj_val\n",
        "\n",
        "\n",
        "def optimize_qaoa(graph, n_shots=1000, n_steps=50):\n",
        "    gamma = np.random.uniform(0, np.pi, n_steps)\n",
        "    beta = np.random.uniform(0, np.pi, n_steps)\n",
        "\n",
        "    for step in range(n_steps):\n",
        "        obj_val = evaluate_qaoa(gamma[step], beta[step], graph, n_shots=n_shots)\n",
        "        print(f\"Step {step + 1}/{n_steps} - Objective Value: {obj_val}\")\n",
        "\n",
        "    return gamma, beta\n",
        "\n",
        "gamma_opt, beta_opt = optimize_qaoa(graph)\n",
        "print(f\"Optimal gamma: {gamma_opt[-1]}\")\n",
        "print(f\"Optimal beta: {beta_opt[-1]}\")"
      ]
    },
    {
      "cell_type": "code",
      "execution_count": 6,
      "metadata": {
        "colab": {
          "base_uri": "https://localhost:8080/",
          "height": 384
        },
        "id": "CHUPkSGmm-lz",
        "outputId": "ac25e78b-261f-45de-a597-4711c6c21520"
      },
      "outputs": [
        {
          "data": {
            "image/png": "[encoded data removed]",
            "text/plain": [
              "<Figure size 1290.83x451.5 with 1 Axes>"
            ]
          },
          "execution_count": 6,
          "metadata": {},
          "output_type": "execute_result"
        }
      ],
      "source": [
        "from qiskit.visualization import plot_histogram\n",
        "qc = qaoa_circuit(gamma=gamma_opt[-1], beta=beta_opt[-1], graph=graph)\n",
        "qc.draw('mpl')"
      ]
    }
  ],
  "metadata": {
    "colab": {
      "provenance": []
    },
    "kernelspec": {
      "display_name": "Python 3",
      "name": "python3"
    },
    "language_info": {
      "codemirror_mode": {
        "name": "ipython",
        "version": 3
      },
      "file_extension": ".py",
      "mimetype": "text/x-python",
      "name": "python",
      "nbconvert_exporter": "python",
      "pygments_lexer": "ipython3",
      "version": "3.12.6"
    }
  },
  "nbformat": 4,
  "nbformat_minor": 0
}
